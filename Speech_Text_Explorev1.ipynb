{
 "cells": [
  {
   "cell_type": "code",
   "execution_count": 1,
   "id": "86dfa1b6",
   "metadata": {},
   "outputs": [],
   "source": [
    "from transformers import * \n",
    "import torch\n",
    "import soundfile as sf\n",
    "import os\n",
    "import torchaudio\n",
    "import torch"
   ]
  },
  {
   "cell_type": "code",
   "execution_count": 6,
   "id": "1851e344",
   "metadata": {},
   "outputs": [
    {
     "name": "stderr",
     "output_type": "stream",
     "text": [
      "Some weights of Wav2Vec2ForCTC were not initialized from the model checkpoint at wav2vec2-large-960h-lv60-self and are newly initialized: ['wav2vec2.masked_spec_embed']\n",
      "You should probably TRAIN this model on a down-stream task to be able to use it for predictions and inference.\n"
     ]
    }
   ],
   "source": [
    "# model_name = \"facebook/wav2vec2-base-960h\" # 360MB\n",
    "model_name = \"wav2vec2-large-960h-lv60-self\" # 1.18GB English\n",
    "#model_name = \"indonesian-nlp/wav2vec2-indonesian-javanese-sundanese\" # 1.18GB Indonesian\n",
    "\n",
    "processor = Wav2Vec2Processor.from_pretrained(model_name)\n",
    "model = Wav2Vec2ForCTC.from_pretrained(model_name)"
   ]
  },
  {
   "cell_type": "code",
   "execution_count": 3,
   "id": "34e348fa",
   "metadata": {},
   "outputs": [],
   "source": [
    "def get_transcription(audio_path):\n",
    "  # load our wav file\n",
    "  speech, sr = torchaudio.load(audio_path)\n",
    "  speech = speech.squeeze()\n",
    "  # or using librosa\n",
    "  # speech, sr = librosa.load(audio_file, sr=16000)\n",
    "  # resample from whatever the audio sampling rate to 16000\n",
    "  resampler = torchaudio.transforms.Resample(sr, 16000)\n",
    "  speech = resampler(speech)\n",
    "  # tokenize our wav\n",
    "  input_values = processor(speech, return_tensors=\"pt\", sampling_rate=16000)[\"input_values\"]\n",
    "  # perform inference\n",
    "  logits = model(input_values)[\"logits\"]\n",
    "  # use argmax to get the predicted IDs\n",
    "  predicted_ids = torch.argmax(logits, dim=-1)\n",
    "  # decode the IDs to text\n",
    "  transcription = processor.decode(predicted_ids[0])\n",
    "  return transcription.lower()"
   ]
  },
  {
   "cell_type": "code",
   "execution_count": 7,
   "id": "2a7b836c",
   "metadata": {},
   "outputs": [
    {
     "name": "stdout",
     "output_type": "stream",
     "text": [
      "Recording...\n",
      "Finished recording.\n"
     ]
    }
   ],
   "source": [
    "import pyaudio\n",
    "import wave\n",
    "\n",
    "# the file name output you want to record into\n",
    "filename = \"recorded.wav\"\n",
    "# set the chunk size of 1024 samples\n",
    "chunk = 1024\n",
    "# sample format\n",
    "FORMAT = pyaudio.paInt16\n",
    "# mono, change to 2 if you want stereo\n",
    "channels = 1\n",
    "# 44100 samples per second\n",
    "sample_rate = 16000\n",
    "record_seconds = 15\n",
    "# initialize PyAudio object\n",
    "p = pyaudio.PyAudio()\n",
    "# open stream object as input & output\n",
    "stream = p.open(format=FORMAT,\n",
    "                channels=channels,\n",
    "                rate=sample_rate,\n",
    "                input=True,\n",
    "                output=True,\n",
    "                frames_per_buffer=chunk)\n",
    "frames = []\n",
    "print(\"Recording...\")\n",
    "for i in range(int(sample_rate / chunk * record_seconds)):\n",
    "    data = stream.read(chunk)\n",
    "    # if you want to hear your voice while recording\n",
    "    # stream.write(data)\n",
    "    frames.append(data)\n",
    "print(\"Finished recording.\")\n",
    "# stop and close stream\n",
    "stream.stop_stream()\n",
    "stream.close()\n",
    "# terminate pyaudio object\n",
    "p.terminate()\n",
    "# save audio file\n",
    "# open the file in 'write bytes' mode\n",
    "wf = wave.open(filename, \"wb\")\n",
    "# set the channels\n",
    "wf.setnchannels(channels)\n",
    "# set the sample format\n",
    "wf.setsampwidth(p.get_sample_size(FORMAT))\n",
    "# set the sample rate\n",
    "wf.setframerate(sample_rate)\n",
    "# write the frames as bytes\n",
    "wf.writeframes(b\"\".join(frames))\n",
    "# close the file\n",
    "wf.close()"
   ]
  },
  {
   "cell_type": "code",
   "execution_count": 8,
   "id": "4068ea44",
   "metadata": {},
   "outputs": [
    {
     "data": {
      "text/plain": [
       "'good morning allow me to introduce myself my name is indra i am currently working in a company selling insurence wilt you like to buy insurence from me if you want pes say yes and i can'"
      ]
     },
     "execution_count": 8,
     "metadata": {},
     "output_type": "execute_result"
    }
   ],
   "source": [
    "get_transcription(\"recorded.wav\")"
   ]
  },
  {
   "cell_type": "code",
   "execution_count": null,
   "id": "ae35592d",
   "metadata": {},
   "outputs": [],
   "source": []
  }
 ],
 "metadata": {
  "kernelspec": {
   "display_name": "Python 3 (ipykernel)",
   "language": "python",
   "name": "python3"
  },
  "language_info": {
   "codemirror_mode": {
    "name": "ipython",
    "version": 3
   },
   "file_extension": ".py",
   "mimetype": "text/x-python",
   "name": "python",
   "nbconvert_exporter": "python",
   "pygments_lexer": "ipython3",
   "version": "3.9.7"
  }
 },
 "nbformat": 4,
 "nbformat_minor": 5
}
